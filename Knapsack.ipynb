{
 "cells": [
  {
   "cell_type": "code",
   "execution_count": null,
   "id": "df0e5412",
   "metadata": {
    "scrolled": true
   },
   "outputs": [],
   "source": [
    "import math\n",
    "import os\n",
    "import random\n",
    "import re\n",
    "import sys\n",
    "def unboundedKnapsack(k, arr):\n",
    "    temp = [0] * (k + 1)\n",
    "    for x in arr:\n",
    "        for y in range(x, k + 1):\n",
    "            temp[y] = max(temp[y], temp[y - x] + x)\n",
    "    return temp[k]\n",
    "if __name__ == '__main__':\n",
    "    F = open(os.environ['OUTPUT_PATH'], 'w')\n",
    "    t = int(input().strip())\n",
    "    for _ in range(t):\n",
    "        first_multiple_input = input().rstrip().split()\n",
    "        n = int(first_multiple_input[0])\n",
    "        k = int(first_multiple_input[1])\n",
    "        arr = list(map(int, input().rstrip().split()))\n",
    "        result = unboundedKnapsack(k, arr)\n",
    "        F.write(str(result) + '\\n')\n",
    "    F.close()\n"
   ]
  },
  {
   "cell_type": "code",
   "execution_count": null,
   "id": "1f24aded",
   "metadata": {},
   "outputs": [],
   "source": []
  }
 ],
 "metadata": {
  "kernelspec": {
   "display_name": "Python 3 (ipykernel)",
   "language": "python",
   "name": "python3"
  },
  "language_info": {
   "codemirror_mode": {
    "name": "ipython",
    "version": 3
   },
   "file_extension": ".py",
   "mimetype": "text/x-python",
   "name": "python",
   "nbconvert_exporter": "python",
   "pygments_lexer": "ipython3",
   "version": "3.11.5"
  }
 },
 "nbformat": 4,
 "nbformat_minor": 5
}
